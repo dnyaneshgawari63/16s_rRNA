{
 "cells": [
  {
   "cell_type": "code",
   "execution_count": null,
   "metadata": {},
   "outputs": [
    {
     "data": {
      "text/plain": [
       "'\\nfrom dotenv import load_dotenv\\nimport google.generativeai as genai\\nimport os\\nload_dotenv()\\ngenai.configure(api_key=os.environ[\"GEMINI_API_KEY\"])\\nfile_path = \"D:/FDS/Projects/16s_rRNA/DiabImmune_Metagenomic_sequencing_assay.txt\"\\n\\ntry:\\n    uploaded_file = genai.upload_file(file_path)\\n\\n    model = genai.GenerativeModel(model_name=\"gemini-1.5-flash\")  # or gemini-pro\\n\\n    response = model.generate_content([f\"what is this file about and what are their values inside represent?\\n\\n{uploaded_file}\"])  # Use uploaded_file object\\n    print(response.text, end=\"\")\\n\\nexcept genai.errors.APIError as e:  # Catch GenAI specific errors\\n    print(f\"Gemini API Error: {e}\")  # More specific error reporting\\nexcept FileNotFoundError:\\n    print(f\"Error: File not found at {file_path}\")\\nexcept Exception as e:\\n    print(f\"An error occurred: {e}\")\\n\\n\\n'"
      ]
     },
     "execution_count": 1,
     "metadata": {},
     "output_type": "execute_result"
    }
   ],
   "source": []
  },
  {
   "cell_type": "code",
   "execution_count": 2,
   "metadata": {},
   "outputs": [],
   "source": [
    "import pandas as pd"
   ]
  },
  {
   "cell_type": "code",
   "execution_count": 3,
   "metadata": {},
   "outputs": [
    {
     "name": "stderr",
     "output_type": "stream",
     "text": [
      "C:\\Users\\Dnyanesh\\AppData\\Local\\Temp\\ipykernel_10572\\4184733410.py:1: DtypeWarning: Columns (2676,2761,2763,2765,2767,2831,2834,2852,2875,2956,2961,2973,3232,3253,3354,3368,3370,3389,3391,3393,3413,3423,4210,4212,4231,4469,4522,4526,4531,4533,4536,4538,4540,4542,4544,4546,4548,4550) have mixed types. Specify dtype option on import or set low_memory=False.\n",
      "  data = pd.read_csv(\"D:/FDS/Projects/16s_rRNA/DiabImmune_Metagenomic_sequencing_assay.txt\", sep=\"\\t\")\n"
     ]
    }
   ],
   "source": [
    "data = pd.read_csv(\"D:/FDS/Projects/16s_rRNA/DiabImmune_Metagenomic_sequencing_assay.txt\", sep=\"\\t\")\n",
    "data.to_csv(\"microbiome.csv\", index=False)"
   ]
  },
  {
   "cell_type": "code",
   "execution_count": 6,
   "metadata": {},
   "outputs": [
    {
     "name": "stderr",
     "output_type": "stream",
     "text": [
      "C:\\Users\\Dnyanesh\\AppData\\Local\\Temp\\ipykernel_10572\\219931195.py:1: DtypeWarning: Columns (2676,2761,2763,2765,2767,2831,2834,2852,2875,2956,2961,2973,3232,3253,3354,3368,3370,3389,3391,3393,3413,3423,4210,4212,4231,4469,4522,4526,4531,4533,4536,4538,4540,4542,4544,4546,4548,4550) have mixed types. Specify dtype option on import or set low_memory=False.\n",
      "  df = pd.read_csv(\"D:/FDS/Projects/16s_rRNA/microbiome.csv\")\n"
     ]
    }
   ],
   "source": [
    "df = pd.read_csv(\"D:/FDS/Projects/16s_rRNA/microbiome.csv\")"
   ]
  },
  {
   "cell_type": "code",
   "execution_count": 20,
   "metadata": {},
   "outputs": [
    {
     "name": "stdout",
     "output_type": "stream",
     "text": [
      "  Metagenomic_sequencing_assay_Id  Sample_Id participant_repeated_measure_Id  \\\n",
      "0                   3000007 (WGS)    3000007              E006091_1 (Source)   \n",
      "1                   3000044 (WGS)    3000044              E004781_1 (Source)   \n",
      "2                   3000052 (WGS)    3000052              E004934_2 (Source)   \n",
      "3                   3000054 (WGS)    3000054              E004898_2 (Source)   \n",
      "4                   3000058 (WGS)    3000058              E004628_1 (Source)   \n",
      "\n",
      "     Participant_Id  \\\n",
      "0  E006091 (Source)   \n",
      "1  E004781 (Source)   \n",
      "2  E004934 (Source)   \n",
      "3  E004898 (Source)   \n",
      "4  E004628 (Source)   \n",
      "\n",
      "   1.1.1.100: 3-oxoacyl-[acyl-carrier-protein] reductase [EUPATH_0009247_1_1_1_100]  \\\n",
      "0                                         315.023025                                  \n",
      "1                                         308.681880                                  \n",
      "2                                         200.638319                                  \n",
      "3                                         240.788650                                  \n",
      "4                                         645.348062                                  \n",
      "\n",
      "   1.1.1.103: L-threonine 3-dehydrogenase [EUPATH_0009247_1_1_1_103]  \\\n",
      "0                                         136.408674                   \n",
      "1                                         232.803530                   \n",
      "2                                          36.086540                   \n",
      "3                                           4.232967                   \n",
      "4                                         242.425780                   \n",
      "\n",
      "   1.1.1.105: All-trans-retinol dehydrogenase (NAD(+)) [EUPATH_0009247_1_1_1_105]  \\\n",
      "0                                                NaN                                \n",
      "1                                                NaN                                \n",
      "2                                                NaN                                \n",
      "3                                                NaN                                \n",
      "4                                                NaN                                \n",
      "\n",
      "   1.1.1.107: Pyridoxal 4-dehydrogenase [EUPATH_0009247_1_1_1_107]  \\\n",
      "0                                                NaN                 \n",
      "1                                                NaN                 \n",
      "2                                            4.49922                 \n",
      "3                                                NaN                 \n",
      "4                                                NaN                 \n",
      "\n",
      "   1.1.1.108: Carnitine 3-dehydrogenase [EUPATH_0009247_1_1_1_108]  \\\n",
      "0                                                NaN                 \n",
      "1                                                NaN                 \n",
      "2                                                NaN                 \n",
      "3                                                NaN                 \n",
      "4                                                NaN                 \n",
      "\n",
      "   1.1.1.119: Glucose 1-dehydrogenase (NADP(+)) [EUPATH_0009247_1_1_1_119]  \\\n",
      "0                                                NaN                         \n",
      "1                                                NaN                         \n",
      "2                                                NaN                         \n",
      "3                                                NaN                         \n",
      "4                                                NaN                         \n",
      "\n",
      "   ...  unclassified Meyerozyma [EUPATH_0009268_Ascomycota_2bd7ab34acd7d622]  \\\n",
      "0  ...                                                NaN                      \n",
      "1  ...                                                NaN                      \n",
      "2  ...                                                NaN                      \n",
      "3  ...                                                NaN                      \n",
      "4  ...                                                NaN                      \n",
      "\n",
      "   unclassified Meyerozyma [EUPATH_0009269_Ascomycota_2bd7ab34acd7d622]  \\\n",
      "0                                                NaN                      \n",
      "1                                                NaN                      \n",
      "2                                                NaN                      \n",
      "3                                                NaN                      \n",
      "4                                                NaN                      \n",
      "\n",
      "   unclassified Penicillium [EUPATH_0009268_Ascomycota_Eurotiomycetes_Eurotiales_Aspergillaceae_Penicillium_]  \\\n",
      "0                                                NaN                                                            \n",
      "1                                                NaN                                                            \n",
      "2                                                NaN                                                            \n",
      "3                                                NaN                                                            \n",
      "4                                                NaN                                                            \n",
      "\n",
      "   unclassified Penicillium [EUPATH_0009269_Ascomycota_Eurotiomycetes_Eurotiales_Aspergillaceae_Penicillium_]  \\\n",
      "0                                                NaN                                                            \n",
      "1                                                NaN                                                            \n",
      "2                                                NaN                                                            \n",
      "3                                                NaN                                                            \n",
      "4                                                NaN                                                            \n",
      "\n",
      "   unclassified Rhodotorula [EUPATH_0009268_Basidiomycota_0b83ac425df4aef1]  \\\n",
      "0                                                NaN                          \n",
      "1                                                NaN                          \n",
      "2                                                NaN                          \n",
      "3                                                NaN                          \n",
      "4                                                NaN                          \n",
      "\n",
      "   unclassified Rhodotorula [EUPATH_0009269_Basidiomycota_0b83ac425df4aef1]  \\\n",
      "0                                                NaN                          \n",
      "1                                                NaN                          \n",
      "2                                                NaN                          \n",
      "3                                                NaN                          \n",
      "4                                                NaN                          \n",
      "\n",
      "   unclassified Saccharomycetales [EUPATH_0009268_Ascomycota_Saccharomycetes_Saccharomycetales_]  \\\n",
      "0                                                NaN                                               \n",
      "1                                                NaN                                               \n",
      "2                                                NaN                                               \n",
      "3                                                NaN                                               \n",
      "4                                                NaN                                               \n",
      "\n",
      "   unclassified Saccharomycetales [EUPATH_0009269_Ascomycota_Saccharomycetes_Saccharomycetales_]  \\\n",
      "0                                                NaN                                               \n",
      "1                                                NaN                                               \n",
      "2                                                NaN                                               \n",
      "3                                                NaN                                               \n",
      "4                                                NaN                                               \n",
      "\n",
      "   unclassified Wickerhamomyces [EUPATH_0009268_Ascomycota_cfab901d7c874079]  \\\n",
      "0                                                NaN                           \n",
      "1                                                NaN                           \n",
      "2                                                NaN                           \n",
      "3                                                NaN                           \n",
      "4                                                NaN                           \n",
      "\n",
      "   unclassified Wickerhamomyces [EUPATH_0009269_Ascomycota_cfab901d7c874079]  \n",
      "0                                                NaN                          \n",
      "1                                                NaN                          \n",
      "2                                                NaN                          \n",
      "3                                                NaN                          \n",
      "4                                                NaN                          \n",
      "\n",
      "[5 rows x 4552 columns]\n"
     ]
    }
   ],
   "source": [
    "print(df.head())"
   ]
  },
  {
   "cell_type": "code",
   "execution_count": 21,
   "metadata": {},
   "outputs": [
    {
     "name": "stdout",
     "output_type": "stream",
     "text": [
      "Metagenomic_sequencing_assay_Id                                                                   object\n",
      "Sample_Id                                                                                          int64\n",
      "participant_repeated_measure_Id                                                                   object\n",
      "Participant_Id                                                                                    object\n",
      "1.1.1.100: 3-oxoacyl-[acyl-carrier-protein] reductase [EUPATH_0009247_1_1_1_100]                 float64\n",
      "                                                                                                  ...   \n",
      "unclassified Rhodotorula [EUPATH_0009269_Basidiomycota_0b83ac425df4aef1]                         float64\n",
      "unclassified Saccharomycetales [EUPATH_0009268_Ascomycota_Saccharomycetes_Saccharomycetales_]     object\n",
      "unclassified Saccharomycetales [EUPATH_0009269_Ascomycota_Saccharomycetes_Saccharomycetales_]    float64\n",
      "unclassified Wickerhamomyces [EUPATH_0009268_Ascomycota_cfab901d7c874079]                         object\n",
      "unclassified Wickerhamomyces [EUPATH_0009269_Ascomycota_cfab901d7c874079]                        float64\n",
      "Length: 4552, dtype: object\n"
     ]
    }
   ],
   "source": [
    "print(df.dtypes)"
   ]
  }
 ],
 "metadata": {
  "kernelspec": {
   "display_name": "Python 3",
   "language": "python",
   "name": "python3"
  },
  "language_info": {
   "codemirror_mode": {
    "name": "ipython",
    "version": 3
   },
   "file_extension": ".py",
   "mimetype": "text/x-python",
   "name": "python",
   "nbconvert_exporter": "python",
   "pygments_lexer": "ipython3",
   "version": "3.11.9"
  }
 },
 "nbformat": 4,
 "nbformat_minor": 2
}
